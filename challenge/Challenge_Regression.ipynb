{
 "metadata": {
  "name": ""
 },
 "nbformat": 3,
 "nbformat_minor": 0,
 "worksheets": [
  {
   "cells": [
    {
     "cell_type": "heading",
     "level": 1,
     "metadata": {},
     "source": [
      "Challenge (Regression)"
     ]
    },
    {
     "cell_type": "heading",
     "level": 2,
     "metadata": {},
     "source": [
      "Matt Mahan and Matt Rundle"
     ]
    },
    {
     "cell_type": "code",
     "collapsed": false,
     "input": [
      "import pandas as pd\n",
      "import numpy as np\n",
      "from sklearn.metrics import mean_squared_error\n",
      "from math import sqrt\n",
      "\n",
      "df = pd.DataFrame()\n",
      "df = pd.read_csv('/home/student/challenge/reg_challenge_train.csv')\n",
      "df['is_train'] = np.random.uniform(0, 1, len(df)) <= .75\n",
      "train, test = df[df['is_train']==True], df[df['is_train']==False]"
     ],
     "language": "python",
     "metadata": {},
     "outputs": [],
     "prompt_number": 6
    },
    {
     "cell_type": "code",
     "collapsed": false,
     "input": [
      "from sklearn.ensemble import GradientBoostingRegressor\n",
      "features = df.columns[:-2]\n",
      "y = df.columns[-2]\n",
      "clf = GradientBoostingRegressor(n_estimators=100)\n",
      "clf.fit(train[features], train[y])\n",
      "\n",
      "predictions = clf.predict(test[features])\n",
      "\n",
      "rms = sqrt(mean_squared_error(test[y], predictions))\n",
      "print rms\n"
     ],
     "language": "python",
     "metadata": {},
     "outputs": [
      {
       "output_type": "stream",
       "stream": "stdout",
       "text": [
        "2.39860744584\n"
       ]
      }
     ],
     "prompt_number": 7
    },
    {
     "cell_type": "code",
     "collapsed": false,
     "input": [
      "from sklearn import cross_validation\n",
      "scores = cross_validation.cross_val_score(clf, df[features], df[y], cv=5, scoring='mean_squared_error')\n",
      "# Root mean squared error\n",
      "print sqrt(abs(mean(scores)))\n",
      "\n"
     ],
     "language": "python",
     "metadata": {},
     "outputs": [
      {
       "output_type": "stream",
       "stream": "stdout",
       "text": [
        "2.42189816236\n"
       ]
      }
     ],
     "prompt_number": 8
    },
    {
     "cell_type": "code",
     "collapsed": false,
     "input": [
      "from sklearn.tree import DecisionTreeRegressor\n",
      "clf_dt = DecisionTreeRegressor()\n",
      "scores_dt = cross_validation.cross_val_score(clf_dt, df[features], df[y], cv=5, scoring='mean_squared_error')\n",
      "# Root mean squared error\n",
      "print sqrt(abs(mean(scores_dt)))\n"
     ],
     "language": "python",
     "metadata": {},
     "outputs": [
      {
       "output_type": "stream",
       "stream": "stdout",
       "text": [
        "3.53530078612\n"
       ]
      }
     ],
     "prompt_number": 11
    },
    {
     "cell_type": "code",
     "collapsed": false,
     "input": [
      "from sklearn.ensemble import RandomForestRegressor\n",
      "clf_rf = RandomForestRegressor(n_estimators=100)\n",
      "scores_rf = cross_validation.cross_val_score(clf_rf, df[features], df[y], cv=5, scoring='mean_squared_error')\n",
      "# Root mean squared error\n",
      "print sqrt(abs(mean(scores_rf)))"
     ],
     "language": "python",
     "metadata": {},
     "outputs": [
      {
       "output_type": "stream",
       "stream": "stdout",
       "text": [
        "2.5176512435\n"
       ]
      }
     ],
     "prompt_number": 12
    },
    {
     "cell_type": "code",
     "collapsed": false,
     "input": [
      "from sklearn.ensemble import ExtraTreesRegressor\n",
      "clf_et = ExtraTreesRegressor(n_estimators=100)\n",
      "scores_et = cross_validation.cross_val_score(clf_et, df[features], df[y], cv=5, scoring='mean_squared_error')\n",
      "# Root mean squared error\n",
      "print sqrt(abs(mean(scores_et)))"
     ],
     "language": "python",
     "metadata": {},
     "outputs": [
      {
       "output_type": "stream",
       "stream": "stdout",
       "text": [
        "2.32400887536\n"
       ]
      }
     ],
     "prompt_number": 13
    },
    {
     "cell_type": "code",
     "collapsed": false,
     "input": [
      "# We're going with ExtraTrees!\n",
      "test_df = pd.DataFrame()\n",
      "test_df = pd.read_csv('/home/student/challenge/reg_challenge_test.csv')\n",
      "test_features = test_df.columns[:-1]\n",
      "\n",
      "clf = ExtraTreesRegressor(n_estimators=100)\n",
      "clf.fit(df[features], df[y])\n",
      "\n",
      "predictions = clf.predict(test_df[test_features])\n",
      "\n",
      "# Write to file\n",
      "numpy.savetxt('reg_challenge_predictions.txt',predictions,newline='\\n',header=y,comments='',fmt='%1.2f')"
     ],
     "language": "python",
     "metadata": {},
     "outputs": [],
     "prompt_number": 28
    },
    {
     "cell_type": "code",
     "collapsed": false,
     "input": [],
     "language": "python",
     "metadata": {},
     "outputs": []
    }
   ],
   "metadata": {}
  }
 ]
}