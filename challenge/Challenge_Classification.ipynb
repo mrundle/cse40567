{
 "metadata": {
  "name": ""
 },
 "nbformat": 3,
 "nbformat_minor": 0,
 "worksheets": [
  {
   "cells": [
    {
     "cell_type": "heading",
     "level": 1,
     "metadata": {},
     "source": [
      "Challenge Assignment (Classification)"
     ]
    },
    {
     "cell_type": "heading",
     "level": 2,
     "metadata": {},
     "source": [
      "Matt Mahan and Matt Rundle"
     ]
    },
    {
     "cell_type": "code",
     "collapsed": false,
     "input": [
      "import pandas as pd\n",
      "import numpy as np\n",
      "from sklearn.metrics import mean_squared_error\n",
      "from math import sqrt\n",
      "from sklearn import cross_validation\n",
      "\n",
      "df = pd.DataFrame()\n",
      "df = pd.read_csv('/home/student/challenge/class_challenge_train.csv')\n",
      "df['is_train'] = np.random.uniform(0, 1, len(df)) <= .75\n",
      "train, test = df[df['is_train']==True], df[df['is_train']==False]"
     ],
     "language": "python",
     "metadata": {},
     "outputs": [],
     "prompt_number": 9
    },
    {
     "cell_type": "code",
     "collapsed": false,
     "input": [
      "features = df.columns[:-2]\n",
      "y = df.columns[-2]"
     ],
     "language": "python",
     "metadata": {},
     "outputs": [],
     "prompt_number": 10
    },
    {
     "cell_type": "code",
     "collapsed": false,
     "input": [
      "from sklearn.ensemble import GradientBoostingClassifier\n",
      "clf = GradientBoostingClassifier(n_estimators=100)\n",
      "scores = cross_validation.cross_val_score(clf, df[features], df[y], cv=5, scoring='mean_squared_error')\n",
      "# Root mean squared error\n",
      "print \"GradientBoostingClassifier RMSE: \" + str(sqrt(abs(mean(scores))))"
     ],
     "language": "python",
     "metadata": {},
     "outputs": [
      {
       "output_type": "stream",
       "stream": "stdout",
       "text": [
        "GradientBoostingClassifier RMSE: 0.728353177009\n"
       ]
      }
     ],
     "prompt_number": 14
    },
    {
     "cell_type": "code",
     "collapsed": false,
     "input": [
      "from sklearn.tree import DecisionTreeClassifier\n",
      "clf = DecisionTreeClassifier()\n",
      "scores = cross_validation.cross_val_score(clf, df[features], df[y], cv=5, scoring='mean_squared_error')\n",
      "# Root mean squared error\n",
      "print \"DecisionTreeClassifier RMSE: \" + str(sqrt(abs(mean(scores))))"
     ],
     "language": "python",
     "metadata": {},
     "outputs": [
      {
       "output_type": "stream",
       "stream": "stdout",
       "text": [
        "DecisionTreeClassifier RMSE: 0.891507383186\n"
       ]
      }
     ],
     "prompt_number": 15
    },
    {
     "cell_type": "code",
     "collapsed": false,
     "input": [
      "from sklearn.neighbors import KNeighborsClassifier\n",
      "clf = KNeighborsClassifier(3)\n",
      "scores = cross_validation.cross_val_score(clf, df[features], df[y], cv=5, scoring='mean_squared_error')\n",
      "# Root mean squared error\n",
      "print \"KNeighborsClassifier RMSE: \" + str(sqrt(abs(mean(scores))))"
     ],
     "language": "python",
     "metadata": {},
     "outputs": [
      {
       "output_type": "stream",
       "stream": "stdout",
       "text": [
        "KNeighborsClassifier RMSE: 0.936362508196\n"
       ]
      }
     ],
     "prompt_number": 16
    },
    {
     "cell_type": "code",
     "collapsed": false,
     "input": [
      "from sklearn.naive_bayes import BernoulliNB\n",
      "scores = cross_validation.cross_val_score(BernoulliNB(), df[features], df[y], cv=5, scoring='mean_squared_error')\n",
      "# Root mean squared error\n",
      "print \"BernoulliNB RMSE: \" + str(sqrt(abs(mean(scores))))"
     ],
     "language": "python",
     "metadata": {},
     "outputs": [
      {
       "output_type": "stream",
       "stream": "stdout",
       "text": [
        "BernoulliNB RMSE: 0.998669308069\n"
       ]
      }
     ],
     "prompt_number": 19
    },
    {
     "cell_type": "code",
     "collapsed": false,
     "input": [
      "from sklearn.ensemble import RandomForestClassifier\n",
      "scores = cross_validation.cross_val_score(RandomForestClassifier(n_estimators=100), df[features], df[y], cv=5, scoring='mean_squared_error')\n",
      "# Root mean squared error\n",
      "print \"RandomForestClassifier RMSE: \" + str(sqrt(abs(mean(scores))))"
     ],
     "language": "python",
     "metadata": {},
     "outputs": [
      {
       "output_type": "stream",
       "stream": "stdout",
       "text": [
        "RandomForestClassifier RMSE: 0.775799914843\n"
       ]
      }
     ],
     "prompt_number": 20
    },
    {
     "cell_type": "code",
     "collapsed": false,
     "input": [
      "from sklearn.ensemble import AdaBoostClassifier\n",
      "scores = cross_validation.cross_val_score(AdaBoostClassifier(n_estimators=100), df[features], df[y], cv=5, scoring='mean_squared_error')\n",
      "# Root mean squared error\n",
      "print \"AdaBoostClassifier RMSE: \" + str(sqrt(abs(mean(scores))))"
     ],
     "language": "python",
     "metadata": {},
     "outputs": [
      {
       "output_type": "stream",
       "stream": "stdout",
       "text": [
        "AdaBoostClassifier RMSE: 0.739519915884\n"
       ]
      }
     ],
     "prompt_number": 22
    },
    {
     "cell_type": "code",
     "collapsed": false,
     "input": [
      "from sklearn.ensemble import ExtraTreesClassifier\n",
      "scores = cross_validation.cross_val_score(ExtraTreesClassifier(n_estimators=100), df[features], df[y], cv=5, scoring='mean_squared_error')\n",
      "# Root mean squared error\n",
      "print \"ExtraTreesClassifier RMSE: \" + str(sqrt(abs(mean(scores))))"
     ],
     "language": "python",
     "metadata": {},
     "outputs": [
      {
       "output_type": "stream",
       "stream": "stdout",
       "text": [
        "ExtraTreesClassifier RMSE: 0.818759230671\n"
       ]
      }
     ],
     "prompt_number": 23
    },
    {
     "cell_type": "heading",
     "level": 1,
     "metadata": {},
     "source": [
      "Gradient boosting wins"
     ]
    },
    {
     "cell_type": "code",
     "collapsed": false,
     "input": [
      "# We're going with gradient boosting\n",
      "test_df = pd.DataFrame()\n",
      "test_df = pd.read_csv('/home/student/challenge/class_challenge_test.csv')\n",
      "test_features = test_df.columns[:-1]\n",
      "\n",
      "clf = GradientBoostingClassifier(n_estimators=100)\n",
      "clf.fit(df[features], df[y])\n",
      "\n",
      "predictions = clf.predict(test_df[test_features])\n",
      "\n",
      "# Write to file\n",
      "numpy.savetxt('class_challenge_predictions.txt',predictions,newline='\\n',header=y,comments='',fmt='%1.2f')\n"
     ],
     "language": "python",
     "metadata": {},
     "outputs": [],
     "prompt_number": 30
    },
    {
     "cell_type": "code",
     "collapsed": false,
     "input": [],
     "language": "python",
     "metadata": {},
     "outputs": []
    }
   ],
   "metadata": {}
  }
 ]
}